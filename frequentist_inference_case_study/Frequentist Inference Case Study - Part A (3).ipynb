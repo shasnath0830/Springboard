{
 "cells": [
  {
   "cell_type": "markdown",
   "metadata": {},
   "source": [
    "# Frequentist Inference Case Study - Part A "
   ]
  },
  {
   "cell_type": "markdown",
   "metadata": {},
   "source": [
    "## 1. Learning objectives"
   ]
  },
  {
   "cell_type": "markdown",
   "metadata": {},
   "source": [
    "Welcome to part A of the Frequentist inference case study! The purpose of this case study is to help you apply the concepts associated with Frequentist inference in Python. Frequentist inference is the process of deriving conclusions about an underlying distribution via the observation of data. In particular, you'll practice writing Python code to apply the following statistical concepts: \n",
    "* the _z_-statistic\n",
    "* the _t_-statistic\n",
    "* the difference and relationship between the two\n",
    "* the Central Limit Theorem, including its assumptions and consequences\n",
    "* how to estimate the population mean and standard deviation from a sample\n",
    "* the concept of a sampling distribution of a test statistic, particularly for the mean\n",
    "* how to combine these concepts to calculate a confidence interval"
   ]
  },
  {
   "cell_type": "markdown",
   "metadata": {},
   "source": [
    "## Prerequisites"
   ]
  },
  {
   "cell_type": "markdown",
   "metadata": {},
   "source": [
    "To be able to complete this notebook, you are expected to have a basic understanding of:\n",
    "* what a random variable is (p.400 of Professor Spiegelhalter's *The Art of Statistics, hereinafter AoS*)\n",
    "* what a population, and a population distribution, are (p. 397 of *AoS*)\n",
    "* a high-level sense of what the normal distribution is (p. 394 of *AoS*)\n",
    "* what the t-statistic is (p. 275 of *AoS*)\n",
    "\n",
    "Happily, these should all be concepts with which you are reasonably familiar after having read ten chapters of Professor Spiegelhalter's book, *The Art of Statistics*.\n",
    "\n",
    "We'll try to relate the concepts in this case study back to page numbers in *The Art of Statistics* so that you can focus on the Python aspects of this case study. The second part (part B) of this case study will involve another, more real-world application of these tools. "
   ]
  },
  {
   "cell_type": "markdown",
   "metadata": {},
   "source": [
    "For this notebook, we will use data sampled from a known normal distribution. This allows us to compare our results with theoretical expectations."
   ]
  },
  {
   "cell_type": "markdown",
   "metadata": {},
   "source": [
    "## 2. An introduction to sampling from the normal distribution"
   ]
  },
  {
   "cell_type": "markdown",
   "metadata": {},
   "source": [
    "First, let's explore the ways we can generate the normal distribution. While there's a fair amount of interest in [sklearn](https://scikit-learn.org/stable/) within the machine learning community, you're likely to have heard of [scipy](https://docs.scipy.org/doc/scipy-0.15.1/reference/index.html) if you're coming from the sciences. For this assignment, you'll use [scipy.stats](https://docs.scipy.org/doc/scipy-0.15.1/reference/tutorial/stats.html) to complete your work. \n",
    "\n",
    "This assignment will require some digging around and getting your hands dirty (your learning is maximized that way)! You should have the research skills and the tenacity to do these tasks independently, but if you struggle, reach out to your immediate community and your mentor for help. "
   ]
  },
  {
   "cell_type": "code",
   "execution_count": 1,
   "metadata": {},
   "outputs": [],
   "source": [
    "from scipy.stats import norm\n",
    "from scipy.stats import t\n",
    "import numpy as np\n",
    "import pandas as pd\n",
    "from numpy.random import seed\n",
    "import matplotlib.pyplot as plt"
   ]
  },
  {
   "cell_type": "markdown",
   "metadata": {},
   "source": [
    "__Q1:__ Call up the documentation for the `norm` function imported above. (Hint: that documentation is [here](https://docs.scipy.org/doc/scipy/reference/generated/scipy.stats.norm.html)). What is the second listed method?"
   ]
  },
  {
   "cell_type": "code",
   "execution_count": 2,
   "metadata": {},
   "outputs": [
    {
     "name": "stdout",
     "output_type": "stream",
     "text": [
      "Help on norm_gen in module scipy.stats._continuous_distns:\n",
      "\n",
      "<scipy.stats._continuous_distns.norm_gen object>\n",
      "    A normal continuous random variable.\n",
      "\n",
      "    The location (``loc``) keyword specifies the mean.\n",
      "    The scale (``scale``) keyword specifies the standard deviation.\n",
      "\n",
      "    As an instance of the `rv_continuous` class, `norm` object inherits from it\n",
      "    a collection of generic methods (see below for the full list),\n",
      "    and completes them with details specific for this particular distribution.\n",
      "\n",
      "    Methods\n",
      "    -------\n",
      "    rvs(loc=0, scale=1, size=1, random_state=None)\n",
      "        Random variates.\n",
      "    pdf(x, loc=0, scale=1)\n",
      "        Probability density function.\n",
      "    logpdf(x, loc=0, scale=1)\n",
      "        Log of the probability density function.\n",
      "    cdf(x, loc=0, scale=1)\n",
      "        Cumulative distribution function.\n",
      "    logcdf(x, loc=0, scale=1)\n",
      "        Log of the cumulative distribution function.\n",
      "    sf(x, loc=0, scale=1)\n",
      "        Survival function  (also defined as ``1 - cdf``, but `sf` is sometimes more accurate).\n",
      "    logsf(x, loc=0, scale=1)\n",
      "        Log of the survival function.\n",
      "    ppf(q, loc=0, scale=1)\n",
      "        Percent point function (inverse of ``cdf`` --- percentiles).\n",
      "    isf(q, loc=0, scale=1)\n",
      "        Inverse survival function (inverse of ``sf``).\n",
      "    moment(order, loc=0, scale=1)\n",
      "        Non-central moment of the specified order.\n",
      "    stats(loc=0, scale=1, moments='mv')\n",
      "        Mean('m'), variance('v'), skew('s'), and/or kurtosis('k').\n",
      "    entropy(loc=0, scale=1)\n",
      "        (Differential) entropy of the RV.\n",
      "    fit(data)\n",
      "        Parameter estimates for generic data.\n",
      "        See `scipy.stats.rv_continuous.fit <https://docs.scipy.org/doc/scipy/reference/generated/scipy.stats.rv_continuous.fit.html#scipy.stats.rv_continuous.fit>`__ for detailed documentation of the\n",
      "        keyword arguments.\n",
      "    expect(func, args=(), loc=0, scale=1, lb=None, ub=None, conditional=False, **kwds)\n",
      "        Expected value of a function (of one argument) with respect to the distribution.\n",
      "    median(loc=0, scale=1)\n",
      "        Median of the distribution.\n",
      "    mean(loc=0, scale=1)\n",
      "        Mean of the distribution.\n",
      "    var(loc=0, scale=1)\n",
      "        Variance of the distribution.\n",
      "    std(loc=0, scale=1)\n",
      "        Standard deviation of the distribution.\n",
      "    interval(confidence, loc=0, scale=1)\n",
      "        Confidence interval with equal areas around the median.\n",
      "\n",
      "    Notes\n",
      "    -----\n",
      "    The probability density function for `norm` is:\n",
      "\n",
      "    .. math::\n",
      "\n",
      "        f(x) = \\frac{\\exp(-x^2/2)}{\\sqrt{2\\pi}}\n",
      "\n",
      "    for a real number :math:`x`.\n",
      "\n",
      "    The probability density above is defined in the \"standardized\" form. To shift\n",
      "    and/or scale the distribution use the ``loc`` and ``scale`` parameters.\n",
      "    Specifically, ``norm.pdf(x, loc, scale)`` is identically\n",
      "    equivalent to ``norm.pdf(y) / scale`` with\n",
      "    ``y = (x - loc) / scale``. Note that shifting the location of a distribution\n",
      "    does not make it a \"noncentral\" distribution; noncentral generalizations of\n",
      "    some distributions are available in separate classes.\n",
      "\n",
      "    Examples\n",
      "    --------\n",
      "    >>> import numpy as np\n",
      "    >>> from scipy.stats import norm\n",
      "    >>> import matplotlib.pyplot as plt\n",
      "    >>> fig, ax = plt.subplots(1, 1)\n",
      "\n",
      "    Calculate the first four moments:\n",
      "\n",
      "\n",
      "    >>> mean, var, skew, kurt = norm.stats(moments='mvsk')\n",
      "\n",
      "    Display the probability density function (``pdf``):\n",
      "\n",
      "    >>> x = np.linspace(norm.ppf(0.01),\n",
      "    ...                 norm.ppf(0.99), 100)\n",
      "    >>> ax.plot(x, norm.pdf(x),\n",
      "    ...        'r-', lw=5, alpha=0.6, label='norm pdf')\n",
      "\n",
      "    Alternatively, the distribution object can be called (as a function)\n",
      "    to fix the shape, location and scale parameters. This returns a \"frozen\"\n",
      "    RV object holding the given parameters fixed.\n",
      "\n",
      "    Freeze the distribution and display the frozen ``pdf``:\n",
      "\n",
      "    >>> rv = norm()\n",
      "    >>> ax.plot(x, rv.pdf(x), 'k-', lw=2, label='frozen pdf')\n",
      "\n",
      "    Check accuracy of ``cdf`` and ``ppf``:\n",
      "\n",
      "    >>> vals = norm.ppf([0.001, 0.5, 0.999])\n",
      "    >>> np.allclose([0.001, 0.5, 0.999], norm.cdf(vals))\n",
      "    True\n",
      "\n",
      "    Generate random numbers:\n",
      "\n",
      "    >>> r = norm.rvs(size=1000)\n",
      "\n",
      "    And compare the histogram:\n",
      "\n",
      "    >>> ax.hist(r, density=True, bins='auto', histtype='stepfilled', alpha=0.2)\n",
      "    >>> ax.set_xlim([x[0], x[-1]])\n",
      "    >>> ax.legend(loc='best', frameon=False)\n",
      "    >>> plt.show()\n",
      "\n"
     ]
    }
   ],
   "source": [
    "help(norm)"
   ]
  },
  {
   "cell_type": "markdown",
   "metadata": {},
   "source": [
    "__Q2:__ Use the method that generates random variates to draw five samples from the standard normal distribution. "
   ]
  },
  {
   "cell_type": "markdown",
   "metadata": {},
   "source": [
    "__A:__"
   ]
  },
  {
   "cell_type": "code",
   "execution_count": 3,
   "metadata": {},
   "outputs": [
    {
     "name": "stdout",
     "output_type": "stream",
     "text": [
      "[-0.84800948  1.30590636  0.92420797  0.6404118  -1.05473698]\n"
     ]
    }
   ],
   "source": [
    "seed(47)\n",
    "# draw five samples here\n",
    "samples = norm.rvs(size=5)\n",
    "print(samples)"
   ]
  },
  {
   "cell_type": "markdown",
   "metadata": {},
   "source": [
    "__Q3:__ What is the mean of this sample? Is it exactly equal to the value you expected? Hint: the sample was drawn from the standard normal distribution. If you want a reminder of the properties of this distribution, check out p. 85 of *AoS*. "
   ]
  },
  {
   "cell_type": "markdown",
   "metadata": {},
   "source": [
    "__A:__"
   ]
  },
  {
   "cell_type": "code",
   "execution_count": 4,
   "metadata": {},
   "outputs": [
    {
     "name": "stdout",
     "output_type": "stream",
     "text": [
      "Mean of samples:  0.19355593334131074\n"
     ]
    }
   ],
   "source": [
    "# Calculate and print the mean here, hint: use np.mean()\n",
    "print(\"Mean of samples: \", np.mean(samples))"
   ]
  },
  {
   "cell_type": "markdown",
   "metadata": {},
   "source": [
    "__Q4:__ What is the standard deviation of these numbers? Calculate this manually here as $\\sqrt{\\frac{\\sum_i(x_i - \\bar{x})^2}{n}}$ (This is just the definition of **standard deviation** given by Professor Spiegelhalter on p.403 of *AoS*). Hint: np.sqrt() and np.sum() will be useful here and remember that numPy supports [broadcasting](https://docs.scipy.org/doc/numpy/user/basics.broadcasting.html)."
   ]
  },
  {
   "cell_type": "markdown",
   "metadata": {},
   "source": [
    "__A:__"
   ]
  },
  {
   "cell_type": "code",
   "execution_count": 5,
   "metadata": {},
   "outputs": [
    {
     "name": "stdout",
     "output_type": "stream",
     "text": [
      "Mean of samples:  0.19355593334131074\n",
      "Squared differences:  [1.0848585  1.23732347 0.53385239 0.19968017 1.5582352 ]\n",
      "Variance of samples:  0.9227899466393845\n",
      "Standard deviation of samples:  0.9606195639478641\n"
     ]
    }
   ],
   "source": [
    "mean = np.mean(samples)\n",
    "print(\"Mean of samples: \", mean)\n",
    "squared_diffs = (samples - mean) ** 2\n",
    "print(\"Squared differences: \", squared_diffs)  \n",
    "variance = np.sum(squared_diffs) / len(samples)\n",
    "print(\"Variance of samples: \", variance)\n",
    "std = np.sqrt(variance)\n",
    "print(\"Standard deviation of samples: \", std)"
   ]
  },
  {
   "cell_type": "markdown",
   "metadata": {},
   "source": [
    "Here we have calculated the actual standard deviation of a small data set (of size 5). But in this case, this small data set is actually a sample from our larger (infinite) population. In this case, the population is infinite because we could keep drawing our normal random variates until our computers die! \n",
    "\n",
    "In general, the sample mean we calculate will not be equal to the population mean (as we saw above). A consequence of this is that the sum of squares of the deviations from the _population_ mean will be bigger than the sum of squares of the deviations from the _sample_ mean. In other words, the sum of squares of the deviations from the _sample_ mean is too small to give an unbiased estimate of the _population_ variance. An example of this effect is given [here](https://en.wikipedia.org/wiki/Bessel%27s_correction#Source_of_bias). Scaling our estimate of the variance by the factor $n/(n-1)$ gives an unbiased estimator of the population variance. This factor is known as [Bessel's correction](https://en.wikipedia.org/wiki/Bessel%27s_correction). The consequence of this is that the $n$ in the denominator is replaced by $n-1$.\n",
    "\n",
    "You can see Bessel's correction reflected in Professor Spiegelhalter's definition of **variance** on p. 405 of *AoS*.\n",
    "\n",
    "__Q5:__ If all we had to go on was our five samples, what would be our best estimate of the population standard deviation? Use Bessel's correction ($n-1$ in the denominator), thus $\\sqrt{\\frac{\\sum_i(x_i - \\bar{x})^2}{n-1}}$."
   ]
  },
  {
   "cell_type": "markdown",
   "metadata": {},
   "source": [
    "__A:__"
   ]
  },
  {
   "cell_type": "code",
   "execution_count": 6,
   "metadata": {},
   "outputs": [
    {
     "name": "stdout",
     "output_type": "stream",
     "text": [
      "Sample variance:  1.1534874332992306\n",
      "Bessel's Standard deviation of samples: 1.0740053227518152\n"
     ]
    }
   ],
   "source": [
    "variance = np.sum(squared_diffs) / (len(samples) - 1)\n",
    "print(\"Sample variance: \", variance)\n",
    "std = np.sqrt(variance)\n",
    "print(\"Bessel's Standard deviation of samples:\", std)"
   ]
  },
  {
   "cell_type": "markdown",
   "metadata": {},
   "source": [
    "__Q6:__ Now use numpy's std function to calculate the standard deviation of our random samples. Which of the above standard deviations did it return?"
   ]
  },
  {
   "cell_type": "markdown",
   "metadata": {},
   "source": [
    "__A:__"
   ]
  },
  {
   "cell_type": "code",
   "execution_count": 7,
   "metadata": {},
   "outputs": [
    {
     "name": "stdout",
     "output_type": "stream",
     "text": [
      "np standard deviation of samples:  0.9606195639478641\n"
     ]
    }
   ],
   "source": [
    "print(\"np standard deviation of samples: \", np.std(samples))"
   ]
  },
  {
   "cell_type": "markdown",
   "metadata": {},
   "source": [
    "__Q7:__ Consult the documentation for np.std() to see how to apply the correction for estimating the population parameter and verify this produces the expected result."
   ]
  },
  {
   "cell_type": "markdown",
   "metadata": {},
   "source": [
    "__A:__"
   ]
  },
  {
   "cell_type": "code",
   "execution_count": 8,
   "metadata": {},
   "outputs": [
    {
     "name": "stdout",
     "output_type": "stream",
     "text": [
      "Correction of Standard deviation of samples:  1.0740053227518152\n"
     ]
    }
   ],
   "source": [
    "print(\"Correction of Standard deviation of samples: \", np.std(samples, ddof=1))"
   ]
  },
  {
   "cell_type": "markdown",
   "metadata": {},
   "source": [
    "### Summary of section"
   ]
  },
  {
   "cell_type": "markdown",
   "metadata": {},
   "source": [
    "In this section, you've been introduced to the scipy.stats package and used it to draw a small sample from the standard normal distribution. You've calculated the average (the mean) of this sample and seen that this is not exactly equal to the expected population parameter (which we know because we're generating the random variates from a specific, known distribution). You've been introduced to two ways of calculating the standard deviation; one uses $n$ in the denominator and the other uses $n-1$ (Bessel's correction). You've also seen which of these calculations np.std() performs by default and how to get it to generate the other."
   ]
  },
  {
   "cell_type": "markdown",
   "metadata": {},
   "source": [
    "You use $n$ as the denominator if you want to calculate the standard deviation of a sequence of numbers. You use $n-1$ if you are using this sequence of numbers to estimate the population parameter. This brings us to some terminology that can be a little confusing.\n",
    "\n",
    "The population parameter is traditionally written as $\\sigma$ and the sample statistic as $s$. Rather unhelpfully, $s$ is also called the sample standard deviation (using $n-1$) whereas the standard deviation of the sample uses $n$. That's right, we have the sample standard deviation and the standard deviation of the sample and they're not the same thing!\n",
    "\n",
    "The sample standard deviation\n",
    "\\begin{equation}\n",
    "s = \\sqrt{\\frac{\\sum_i(x_i - \\bar{x})^2}{n-1}} \\approx \\sigma,\n",
    "\\end{equation}\n",
    "is our best (unbiased) estimate of the population parameter ($\\sigma$).\n",
    "\n",
    "If your dataset _is_ your entire population, you simply want to calculate the population parameter, $\\sigma$, via\n",
    "\\begin{equation}\n",
    "\\sigma = \\sqrt{\\frac{\\sum_i(x_i - \\bar{x})^2}{n}}\n",
    "\\end{equation}\n",
    "as you have complete, full knowledge of your population. In other words, your sample _is_ your population. It's worth noting that we're dealing with what Professor Spiegehalter describes on p. 92 of *AoS* as a **metaphorical population**: we have all the data, and we act as if the data-point is taken from a population at random. We can think of this population as an imaginary space of possibilities. \n",
    "\n",
    "If, however, you have sampled _from_ your population, you only have partial knowledge of the state of your population. In this case, the standard deviation of your sample is not an unbiased estimate of the standard deviation of the population, in which case you seek to estimate that population parameter via the sample standard deviation, which uses the $n-1$ denominator."
   ]
  },
  {
   "cell_type": "markdown",
   "metadata": {},
   "source": [
    "Great work so far! Now let's dive deeper."
   ]
  },
  {
   "cell_type": "markdown",
   "metadata": {},
   "source": [
    "## 3. Sampling distributions"
   ]
  },
  {
   "cell_type": "markdown",
   "metadata": {},
   "source": [
    "So far we've been dealing with the concept of taking a sample from a population to infer the population parameters. One statistic we calculated for a sample was the mean. As our samples will be expected to vary from one draw to another, so will our sample statistics. If we were to perform repeat draws of size $n$ and calculate the mean of each, we would expect to obtain a distribution of values. This is the sampling distribution of the mean. **The Central Limit Theorem (CLT)** tells us that such a distribution will approach a normal distribution as $n$ increases (the intuitions behind the CLT are covered in full on p. 236 of *AoS*). For the sampling distribution of the mean, the standard deviation of this distribution is given by\n",
    "\n",
    "\\begin{equation}\n",
    "\\sigma_{mean} = \\frac{\\sigma}{\\sqrt n}\n",
    "\\end{equation}\n",
    "\n",
    "where $\\sigma_{mean}$ is the standard deviation of the sampling distribution of the mean and $\\sigma$ is the standard deviation of the population (the population parameter)."
   ]
  },
  {
   "cell_type": "markdown",
   "metadata": {},
   "source": [
    "This is important because typically we are dealing with samples from populations and all we know about the population is what we see in the sample. From this sample, we want to make inferences about the population. We may do this, for example, by looking at the histogram of the values and by calculating the mean and standard deviation (as estimates of the population parameters), and so we are intrinsically interested in how these quantities vary across samples. \n",
    "\n",
    "In other words, now that we've taken one sample of size $n$ and made some claims about the general population, what if we were to take another sample of size $n$? Would we get the same result? Would we make the same claims about the general population? This brings us to a fundamental question: _when we make some inference about a population based on our sample, how confident can we be that we've got it 'right'?_\n",
    "\n",
    "We need to think about **estimates and confidence intervals**: those concepts covered in Chapter 7, p. 189, of *AoS*."
   ]
  },
  {
   "cell_type": "markdown",
   "metadata": {},
   "source": [
    "Now, the standard normal distribution (with its variance equal to its standard deviation of one) would not be a great illustration of a key point. Instead, let's imagine we live in a town of 50,000 people and we know the height of everyone in this town. We will have 50,000 numbers that tell us everything about our population. We'll simulate these numbers now and put ourselves in one particular town, called 'town 47', where the population mean height is 172 cm and population standard deviation is 5 cm."
   ]
  },
  {
   "cell_type": "code",
   "execution_count": 9,
   "metadata": {},
   "outputs": [],
   "source": [
    "seed(47)\n",
    "pop_heights = norm.rvs(172, 5, size=50000)"
   ]
  },
  {
   "cell_type": "code",
   "execution_count": 10,
   "metadata": {},
   "outputs": [
    {
     "data": {
      "image/png": "[encoded data removed]",
      "text/plain": [
       "<Figure size 640x480 with 1 Axes>"
      ]
     },
     "metadata": {},
     "output_type": "display_data"
    }
   ],
   "source": [
    "_ = plt.hist(pop_heights, bins=30)\n",
    "_ = plt.xlabel('height (cm)')\n",
    "_ = plt.ylabel('number of people')\n",
    "_ = plt.title('Distribution of heights in entire town population')\n",
    "_ = plt.axvline(172, color='r')\n",
    "_ = plt.axvline(172+5, color='r', linestyle='--')\n",
    "_ = plt.axvline(172-5, color='r', linestyle='--')\n",
    "_ = plt.axvline(172+10, color='r', linestyle='-.')\n",
    "_ = plt.axvline(172-10, color='r', linestyle='-.')"
   ]
  },
  {
   "cell_type": "markdown",
   "metadata": {},
   "source": [
    "Now, 50,000 people is rather a lot to chase after with a tape measure. If all you want to know is the average height of the townsfolk, then can you just go out and measure a sample to get a pretty good estimate of the average height?"
   ]
  },
  {
   "cell_type": "code",
   "execution_count": 11,
   "metadata": {},
   "outputs": [],
   "source": [
    "def townsfolk_sampler(n):\n",
    "    return np.random.choice(pop_heights, n)"
   ]
  },
  {
   "cell_type": "markdown",
   "metadata": {},
   "source": [
    "Let's say you go out one day and randomly sample 10 people to measure."
   ]
  },
  {
   "cell_type": "code",
   "execution_count": 12,
   "metadata": {},
   "outputs": [],
   "source": [
    "seed(47)\n",
    "daily_sample1 = townsfolk_sampler(10)"
   ]
  },
  {
   "cell_type": "code",
   "execution_count": 13,
   "metadata": {},
   "outputs": [
    {
     "name": "stdout",
     "output_type": "stream",
     "text": [
      "[179.04949004 168.54189384 181.71974048 176.56433733 165.91968052\n",
      " 170.65629646 179.37664509 166.40103988 177.15105034 169.41097044]\n"
     ]
    }
   ],
   "source": [
    "print(daily_sample1)"
   ]
  },
  {
   "cell_type": "code",
   "execution_count": 14,
   "metadata": {},
   "outputs": [
    {
     "data": {
      "image/png": "[encoded data removed]",
      "text/plain": [
       "<Figure size 640x480 with 1 Axes>"
      ]
     },
     "metadata": {},
     "output_type": "display_data"
    }
   ],
   "source": [
    "_ = plt.hist(daily_sample1, bins=10)\n",
    "_ = plt.xlabel('height (cm)')\n",
    "_ = plt.ylabel('number of people')\n",
    "_ = plt.title('Distribution of heights in sample size 10')"
   ]
  },
  {
   "cell_type": "markdown",
   "metadata": {},
   "source": [
    "The sample distribution doesn't resemble what we take the population distribution to be. What do we get for the mean?"
   ]
  },
  {
   "cell_type": "code",
   "execution_count": 15,
   "metadata": {},
   "outputs": [
    {
     "data": {
      "text/plain": [
       "173.47911444163503"
      ]
     },
     "execution_count": 15,
     "metadata": {},
     "output_type": "execute_result"
    }
   ],
   "source": [
    "np.mean(daily_sample1)"
   ]
  },
  {
   "cell_type": "markdown",
   "metadata": {},
   "source": [
    "And if we went out and repeated this experiment?"
   ]
  },
  {
   "cell_type": "code",
   "execution_count": 16,
   "metadata": {},
   "outputs": [],
   "source": [
    "daily_sample2 = townsfolk_sampler(10)"
   ]
  },
  {
   "cell_type": "code",
   "execution_count": 17,
   "metadata": {},
   "outputs": [
    {
     "data": {
      "text/plain": [
       "173.7317666636263"
      ]
     },
     "execution_count": 17,
     "metadata": {},
     "output_type": "execute_result"
    }
   ],
   "source": [
    "np.mean(daily_sample2)"
   ]
  },
  {
   "cell_type": "markdown",
   "metadata": {},
   "source": [
    "__Q8:__ Simulate performing this random trial every day for a year, calculating the mean of each daily sample of 10, and plot the resultant sampling distribution of the mean."
   ]
  },
  {
   "cell_type": "markdown",
   "metadata": {},
   "source": [
    "__A:__"
   ]
  },
  {
   "cell_type": "code",
   "execution_count": 18,
   "metadata": {},
   "outputs": [
    {
     "name": "stdout",
     "output_type": "stream",
     "text": [
      "Day 1: Mean = 172.55\n",
      "Day 2: Mean = 171.43\n",
      "Day 3: Mean = 172.72\n",
      "Day 4: Mean = 172.83\n",
      "Day 5: Mean = 172.72\n",
      "Day 6: Mean = 171.36\n",
      "Day 7: Mean = 172.06\n",
      "Day 8: Mean = 175.02\n",
      "Day 9: Mean = 172.87\n",
      "Day 10: Mean = 173.11\n",
      "Day 11: Mean = 174.28\n",
      "Day 12: Mean = 172.17\n",
      "Day 13: Mean = 172.27\n",
      "Day 14: Mean = 174.11\n",
      "Day 15: Mean = 173.77\n",
      "Day 16: Mean = 173.54\n",
      "Day 17: Mean = 171.73\n",
      "Day 18: Mean = 173.62\n",
      "Day 19: Mean = 171.41\n",
      "Day 20: Mean = 169.89\n",
      "Day 21: Mean = 171.51\n",
      "Day 22: Mean = 170.80\n",
      "Day 23: Mean = 172.13\n",
      "Day 24: Mean = 174.04\n",
      "Day 25: Mean = 171.42\n",
      "Day 26: Mean = 169.69\n",
      "Day 27: Mean = 170.70\n",
      "Day 28: Mean = 170.50\n",
      "Day 29: Mean = 171.12\n",
      "Day 30: Mean = 172.18\n",
      "Day 31: Mean = 172.69\n",
      "Day 32: Mean = 171.00\n",
      "Day 33: Mean = 170.89\n",
      "Day 34: Mean = 171.09\n",
      "Day 35: Mean = 171.26\n",
      "Day 36: Mean = 172.11\n",
      "Day 37: Mean = 171.09\n",
      "Day 38: Mean = 172.65\n",
      "Day 39: Mean = 175.07\n",
      "Day 40: Mean = 169.98\n",
      "Day 41: Mean = 172.28\n",
      "Day 42: Mean = 169.68\n",
      "Day 43: Mean = 172.80\n",
      "Day 44: Mean = 172.55\n",
      "Day 45: Mean = 173.83\n",
      "Day 46: Mean = 173.38\n",
      "Day 47: Mean = 171.89\n",
      "Day 48: Mean = 171.67\n",
      "Day 49: Mean = 169.90\n",
      "Day 50: Mean = 172.73\n",
      "Day 51: Mean = 169.46\n",
      "Day 52: Mean = 171.91\n",
      "Day 53: Mean = 174.31\n",
      "Day 54: Mean = 172.95\n",
      "Day 55: Mean = 170.26\n",
      "Day 56: Mean = 171.63\n",
      "Day 57: Mean = 171.93\n",
      "Day 58: Mean = 172.67\n",
      "Day 59: Mean = 173.36\n",
      "Day 60: Mean = 171.59\n",
      "Day 61: Mean = 174.02\n",
      "Day 62: Mean = 168.71\n",
      "Day 63: Mean = 174.43\n",
      "Day 64: Mean = 173.00\n",
      "Day 65: Mean = 169.86\n",
      "Day 66: Mean = 170.51\n",
      "Day 67: Mean = 169.90\n",
      "Day 68: Mean = 170.15\n",
      "Day 69: Mean = 171.70\n",
      "Day 70: Mean = 172.12\n",
      "Day 71: Mean = 170.74\n",
      "Day 72: Mean = 169.42\n",
      "Day 73: Mean = 172.90\n",
      "Day 74: Mean = 173.35\n",
      "Day 75: Mean = 172.31\n",
      "Day 76: Mean = 170.95\n",
      "Day 77: Mean = 168.60\n",
      "Day 78: Mean = 169.24\n",
      "Day 79: Mean = 168.98\n",
      "Day 80: Mean = 170.25\n",
      "Day 81: Mean = 172.29\n",
      "Day 82: Mean = 169.50\n",
      "Day 83: Mean = 172.14\n",
      "Day 84: Mean = 170.63\n",
      "Day 85: Mean = 170.81\n",
      "Day 86: Mean = 172.76\n",
      "Day 87: Mean = 172.27\n",
      "Day 88: Mean = 172.75\n",
      "Day 89: Mean = 170.29\n",
      "Day 90: Mean = 171.38\n",
      "Day 91: Mean = 171.20\n",
      "Day 92: Mean = 175.68\n",
      "Day 93: Mean = 169.98\n",
      "Day 94: Mean = 171.98\n",
      "Day 95: Mean = 170.56\n",
      "Day 96: Mean = 171.51\n",
      "Day 97: Mean = 172.76\n",
      "Day 98: Mean = 173.21\n",
      "Day 99: Mean = 172.11\n",
      "Day 100: Mean = 173.15\n",
      "Day 101: Mean = 170.11\n",
      "Day 102: Mean = 173.38\n",
      "Day 103: Mean = 172.14\n",
      "Day 104: Mean = 169.68\n",
      "Day 105: Mean = 173.52\n",
      "Day 106: Mean = 170.65\n",
      "Day 107: Mean = 172.93\n",
      "Day 108: Mean = 171.56\n",
      "Day 109: Mean = 171.92\n",
      "Day 110: Mean = 173.64\n",
      "Day 111: Mean = 171.97\n",
      "Day 112: Mean = 171.41\n",
      "Day 113: Mean = 173.10\n",
      "Day 114: Mean = 171.59\n",
      "Day 115: Mean = 172.03\n",
      "Day 116: Mean = 172.22\n",
      "Day 117: Mean = 172.01\n",
      "Day 118: Mean = 172.34\n",
      "Day 119: Mean = 171.03\n",
      "Day 120: Mean = 173.37\n",
      "Day 121: Mean = 171.63\n",
      "Day 122: Mean = 172.24\n",
      "Day 123: Mean = 170.96\n",
      "Day 124: Mean = 175.03\n",
      "Day 125: Mean = 173.64\n",
      "Day 126: Mean = 172.96\n",
      "Day 127: Mean = 171.98\n",
      "Day 128: Mean = 172.86\n",
      "Day 129: Mean = 173.28\n",
      "Day 130: Mean = 170.74\n",
      "Day 131: Mean = 171.86\n",
      "Day 132: Mean = 174.52\n",
      "Day 133: Mean = 171.98\n",
      "Day 134: Mean = 172.85\n",
      "Day 135: Mean = 170.89\n",
      "Day 136: Mean = 172.03\n",
      "Day 137: Mean = 171.01\n",
      "Day 138: Mean = 174.47\n",
      "Day 139: Mean = 167.85\n",
      "Day 140: Mean = 170.87\n",
      "Day 141: Mean = 172.24\n",
      "Day 142: Mean = 174.06\n",
      "Day 143: Mean = 173.65\n",
      "Day 144: Mean = 171.31\n",
      "Day 145: Mean = 172.88\n",
      "Day 146: Mean = 169.01\n",
      "Day 147: Mean = 169.36\n",
      "Day 148: Mean = 172.84\n",
      "Day 149: Mean = 173.28\n",
      "Day 150: Mean = 167.95\n",
      "Day 151: Mean = 171.49\n",
      "Day 152: Mean = 173.27\n",
      "Day 153: Mean = 174.37\n",
      "Day 154: Mean = 169.38\n",
      "Day 155: Mean = 170.82\n",
      "Day 156: Mean = 172.66\n",
      "Day 157: Mean = 170.50\n",
      "Day 158: Mean = 174.49\n",
      "Day 159: Mean = 169.28\n",
      "Day 160: Mean = 173.12\n",
      "Day 161: Mean = 169.49\n",
      "Day 162: Mean = 174.06\n",
      "Day 163: Mean = 170.41\n",
      "Day 164: Mean = 170.39\n",
      "Day 165: Mean = 171.15\n",
      "Day 166: Mean = 171.29\n",
      "Day 167: Mean = 172.77\n",
      "Day 168: Mean = 169.95\n",
      "Day 169: Mean = 172.86\n",
      "Day 170: Mean = 172.62\n",
      "Day 171: Mean = 172.34\n",
      "Day 172: Mean = 168.62\n",
      "Day 173: Mean = 172.71\n",
      "Day 174: Mean = 171.82\n",
      "Day 175: Mean = 173.28\n",
      "Day 176: Mean = 169.07\n",
      "Day 177: Mean = 174.08\n",
      "Day 178: Mean = 174.98\n",
      "Day 179: Mean = 171.28\n",
      "Day 180: Mean = 171.67\n",
      "Day 181: Mean = 169.46\n",
      "Day 182: Mean = 173.43\n",
      "Day 183: Mean = 170.86\n",
      "Day 184: Mean = 173.22\n",
      "Day 185: Mean = 169.19\n",
      "Day 186: Mean = 171.20\n",
      "Day 187: Mean = 171.47\n",
      "Day 188: Mean = 173.32\n",
      "Day 189: Mean = 171.27\n",
      "Day 190: Mean = 169.74\n",
      "Day 191: Mean = 172.92\n",
      "Day 192: Mean = 171.78\n",
      "Day 193: Mean = 170.12\n",
      "Day 194: Mean = 171.87\n",
      "Day 195: Mean = 170.74\n",
      "Day 196: Mean = 172.46\n",
      "Day 197: Mean = 172.98\n",
      "Day 198: Mean = 174.46\n",
      "Day 199: Mean = 173.49\n",
      "Day 200: Mean = 169.52\n",
      "Day 201: Mean = 171.73\n",
      "Day 202: Mean = 170.72\n",
      "Day 203: Mean = 174.66\n",
      "Day 204: Mean = 172.38\n",
      "Day 205: Mean = 172.79\n",
      "Day 206: Mean = 172.67\n",
      "Day 207: Mean = 173.04\n",
      "Day 208: Mean = 169.03\n",
      "Day 209: Mean = 170.28\n",
      "Day 210: Mean = 171.65\n",
      "Day 211: Mean = 173.91\n",
      "Day 212: Mean = 172.37\n",
      "Day 213: Mean = 173.08\n",
      "Day 214: Mean = 170.55\n",
      "Day 215: Mean = 171.63\n",
      "Day 216: Mean = 173.76\n",
      "Day 217: Mean = 173.47\n",
      "Day 218: Mean = 173.93\n",
      "Day 219: Mean = 172.22\n",
      "Day 220: Mean = 174.99\n",
      "Day 221: Mean = 172.79\n",
      "Day 222: Mean = 171.51\n",
      "Day 223: Mean = 173.24\n",
      "Day 224: Mean = 171.88\n",
      "Day 225: Mean = 172.78\n",
      "Day 226: Mean = 171.92\n",
      "Day 227: Mean = 170.13\n",
      "Day 228: Mean = 171.61\n",
      "Day 229: Mean = 172.90\n",
      "Day 230: Mean = 173.10\n",
      "Day 231: Mean = 172.13\n",
      "Day 232: Mean = 173.17\n",
      "Day 233: Mean = 170.08\n",
      "Day 234: Mean = 173.94\n",
      "Day 235: Mean = 171.38\n",
      "Day 236: Mean = 173.06\n",
      "Day 237: Mean = 171.67\n",
      "Day 238: Mean = 172.74\n",
      "Day 239: Mean = 170.29\n",
      "Day 240: Mean = 168.50\n",
      "Day 241: Mean = 172.53\n",
      "Day 242: Mean = 168.23\n",
      "Day 243: Mean = 173.63\n",
      "Day 244: Mean = 173.82\n",
      "Day 245: Mean = 170.65\n",
      "Day 246: Mean = 171.78\n",
      "Day 247: Mean = 169.31\n",
      "Day 248: Mean = 170.90\n",
      "Day 249: Mean = 172.68\n",
      "Day 250: Mean = 172.04\n",
      "Day 251: Mean = 173.18\n",
      "Day 252: Mean = 169.50\n",
      "Day 253: Mean = 172.89\n",
      "Day 254: Mean = 173.40\n",
      "Day 255: Mean = 169.67\n",
      "Day 256: Mean = 169.34\n",
      "Day 257: Mean = 175.16\n",
      "Day 258: Mean = 170.59\n",
      "Day 259: Mean = 170.58\n",
      "Day 260: Mean = 172.72\n",
      "Day 261: Mean = 172.13\n",
      "Day 262: Mean = 169.02\n",
      "Day 263: Mean = 171.16\n",
      "Day 264: Mean = 174.68\n",
      "Day 265: Mean = 169.29\n",
      "Day 266: Mean = 171.66\n",
      "Day 267: Mean = 173.82\n",
      "Day 268: Mean = 170.72\n",
      "Day 269: Mean = 170.52\n",
      "Day 270: Mean = 174.09\n",
      "Day 271: Mean = 168.74\n",
      "Day 272: Mean = 171.60\n",
      "Day 273: Mean = 173.35\n",
      "Day 274: Mean = 169.60\n",
      "Day 275: Mean = 172.32\n",
      "Day 276: Mean = 173.43\n",
      "Day 277: Mean = 175.98\n",
      "Day 278: Mean = 172.42\n",
      "Day 279: Mean = 172.48\n",
      "Day 280: Mean = 175.73\n",
      "Day 281: Mean = 173.31\n",
      "Day 282: Mean = 170.50\n",
      "Day 283: Mean = 171.47\n",
      "Day 284: Mean = 172.92\n",
      "Day 285: Mean = 171.16\n",
      "Day 286: Mean = 173.16\n",
      "Day 287: Mean = 170.62\n",
      "Day 288: Mean = 170.84\n",
      "Day 289: Mean = 171.99\n",
      "Day 290: Mean = 174.23\n",
      "Day 291: Mean = 170.49\n",
      "Day 292: Mean = 172.02\n",
      "Day 293: Mean = 172.09\n",
      "Day 294: Mean = 173.12\n",
      "Day 295: Mean = 170.10\n",
      "Day 296: Mean = 171.47\n",
      "Day 297: Mean = 172.79\n",
      "Day 298: Mean = 172.86\n",
      "Day 299: Mean = 169.39\n",
      "Day 300: Mean = 172.88\n",
      "Day 301: Mean = 172.10\n",
      "Day 302: Mean = 172.27\n",
      "Day 303: Mean = 170.71\n",
      "Day 304: Mean = 172.19\n",
      "Day 305: Mean = 167.53\n",
      "Day 306: Mean = 172.33\n",
      "Day 307: Mean = 172.73\n",
      "Day 308: Mean = 172.52\n",
      "Day 309: Mean = 172.06\n",
      "Day 310: Mean = 168.88\n",
      "Day 311: Mean = 170.45\n",
      "Day 312: Mean = 173.01\n",
      "Day 313: Mean = 172.52\n",
      "Day 314: Mean = 169.77\n",
      "Day 315: Mean = 169.47\n",
      "Day 316: Mean = 173.02\n",
      "Day 317: Mean = 170.27\n",
      "Day 318: Mean = 171.18\n",
      "Day 319: Mean = 173.07\n",
      "Day 320: Mean = 173.43\n",
      "Day 321: Mean = 171.83\n",
      "Day 322: Mean = 170.93\n",
      "Day 323: Mean = 169.82\n",
      "Day 324: Mean = 171.93\n",
      "Day 325: Mean = 170.34\n",
      "Day 326: Mean = 169.05\n",
      "Day 327: Mean = 172.85\n",
      "Day 328: Mean = 171.74\n",
      "Day 329: Mean = 169.21\n",
      "Day 330: Mean = 172.30\n",
      "Day 331: Mean = 170.00\n",
      "Day 332: Mean = 170.03\n",
      "Day 333: Mean = 171.75\n",
      "Day 334: Mean = 170.77\n",
      "Day 335: Mean = 173.98\n",
      "Day 336: Mean = 169.92\n",
      "Day 337: Mean = 174.53\n",
      "Day 338: Mean = 173.22\n",
      "Day 339: Mean = 174.25\n",
      "Day 340: Mean = 172.92\n",
      "Day 341: Mean = 172.69\n",
      "Day 342: Mean = 172.06\n",
      "Day 343: Mean = 169.89\n",
      "Day 344: Mean = 171.46\n",
      "Day 345: Mean = 171.48\n",
      "Day 346: Mean = 172.60\n",
      "Day 347: Mean = 172.38\n",
      "Day 348: Mean = 168.71\n",
      "Day 349: Mean = 172.76\n",
      "Day 350: Mean = 171.66\n",
      "Day 351: Mean = 173.98\n",
      "Day 352: Mean = 171.43\n",
      "Day 353: Mean = 171.77\n",
      "Day 354: Mean = 169.18\n",
      "Day 355: Mean = 173.78\n",
      "Day 356: Mean = 170.82\n",
      "Day 357: Mean = 170.98\n",
      "Day 358: Mean = 172.02\n",
      "Day 359: Mean = 173.20\n",
      "Day 360: Mean = 172.86\n",
      "Day 361: Mean = 171.90\n",
      "Day 362: Mean = 170.46\n",
      "Day 363: Mean = 171.64\n",
      "Day 364: Mean = 169.77\n",
      "Day 365: Mean = 173.32\n"
     ]
    },
    {
     "data": {
      "image/png": "[encoded data removed]",
      "text/plain": [
       "<Figure size 640x480 with 1 Axes>"
      ]
     },
     "metadata": {},
     "output_type": "display_data"
    }
   ],
   "source": [
    "sample_means = []\n",
    "for i in range(365):\n",
    "    mean = np.mean(townsfolk_sampler(10))\n",
    "    sample_means.append(mean)\n",
    "    print(f\"Day {i+1}: Mean = {mean:.2f}\")\n",
    "_ = plt.hist(sample_means, bins=10)\n",
    "_ = plt.xlabel('height (cm)')  \n",
    "_ = plt.ylabel('number of people')\n",
    "_ = plt.title('Distribution of sample means of size 10')    "
   ]
  },
  {
   "cell_type": "code",
   "execution_count": 19,
   "metadata": {},
   "outputs": [
    {
     "name": "stdout",
     "output_type": "stream",
     "text": [
      "Day 1: Mean = 173.48\n",
      "Day 2: Mean = 173.73\n",
      "Day 3: Mean = 172.55\n",
      "Day 4: Mean = 171.43\n",
      "Day 5: Mean = 172.72\n",
      "Day 6: Mean = 172.83\n",
      "Day 7: Mean = 172.72\n",
      "Day 8: Mean = 171.36\n",
      "Day 9: Mean = 172.06\n",
      "Day 10: Mean = 175.02\n",
      "Day 11: Mean = 172.87\n",
      "Day 12: Mean = 173.11\n",
      "Day 13: Mean = 174.28\n",
      "Day 14: Mean = 172.17\n",
      "Day 15: Mean = 172.27\n",
      "Day 16: Mean = 174.11\n",
      "Day 17: Mean = 173.77\n",
      "Day 18: Mean = 173.54\n",
      "Day 19: Mean = 171.73\n",
      "Day 20: Mean = 173.62\n",
      "Day 21: Mean = 171.41\n",
      "Day 22: Mean = 169.89\n",
      "Day 23: Mean = 171.51\n",
      "Day 24: Mean = 170.80\n",
      "Day 25: Mean = 172.13\n",
      "Day 26: Mean = 174.04\n",
      "Day 27: Mean = 171.42\n",
      "Day 28: Mean = 169.69\n",
      "Day 29: Mean = 170.70\n",
      "Day 30: Mean = 170.50\n",
      "Day 31: Mean = 171.12\n",
      "Day 32: Mean = 172.18\n",
      "Day 33: Mean = 172.69\n",
      "Day 34: Mean = 171.00\n",
      "Day 35: Mean = 170.89\n",
      "Day 36: Mean = 171.09\n",
      "Day 37: Mean = 171.26\n",
      "Day 38: Mean = 172.11\n",
      "Day 39: Mean = 171.09\n",
      "Day 40: Mean = 172.65\n",
      "Day 41: Mean = 175.07\n",
      "Day 42: Mean = 169.98\n",
      "Day 43: Mean = 172.28\n",
      "Day 44: Mean = 169.68\n",
      "Day 45: Mean = 172.80\n",
      "Day 46: Mean = 172.55\n",
      "Day 47: Mean = 173.83\n",
      "Day 48: Mean = 173.38\n",
      "Day 49: Mean = 171.89\n",
      "Day 50: Mean = 171.67\n",
      "Day 51: Mean = 169.90\n",
      "Day 52: Mean = 172.73\n",
      "Day 53: Mean = 169.46\n",
      "Day 54: Mean = 171.91\n",
      "Day 55: Mean = 174.31\n",
      "Day 56: Mean = 172.95\n",
      "Day 57: Mean = 170.26\n",
      "Day 58: Mean = 171.63\n",
      "Day 59: Mean = 171.93\n",
      "Day 60: Mean = 172.67\n",
      "Day 61: Mean = 173.36\n",
      "Day 62: Mean = 171.59\n",
      "Day 63: Mean = 174.02\n",
      "Day 64: Mean = 168.71\n",
      "Day 65: Mean = 174.43\n",
      "Day 66: Mean = 173.00\n",
      "Day 67: Mean = 169.86\n",
      "Day 68: Mean = 170.51\n",
      "Day 69: Mean = 169.90\n",
      "Day 70: Mean = 170.15\n",
      "Day 71: Mean = 171.70\n",
      "Day 72: Mean = 172.12\n",
      "Day 73: Mean = 170.74\n",
      "Day 74: Mean = 169.42\n",
      "Day 75: Mean = 172.90\n",
      "Day 76: Mean = 173.35\n",
      "Day 77: Mean = 172.31\n",
      "Day 78: Mean = 170.95\n",
      "Day 79: Mean = 168.60\n",
      "Day 80: Mean = 169.24\n",
      "Day 81: Mean = 168.98\n",
      "Day 82: Mean = 170.25\n",
      "Day 83: Mean = 172.29\n",
      "Day 84: Mean = 169.50\n",
      "Day 85: Mean = 172.14\n",
      "Day 86: Mean = 170.63\n",
      "Day 87: Mean = 170.81\n",
      "Day 88: Mean = 172.76\n",
      "Day 89: Mean = 172.27\n",
      "Day 90: Mean = 172.75\n",
      "Day 91: Mean = 170.29\n",
      "Day 92: Mean = 171.38\n",
      "Day 93: Mean = 171.20\n",
      "Day 94: Mean = 175.68\n",
      "Day 95: Mean = 169.98\n",
      "Day 96: Mean = 171.98\n",
      "Day 97: Mean = 170.56\n",
      "Day 98: Mean = 171.51\n",
      "Day 99: Mean = 172.76\n",
      "Day 100: Mean = 173.21\n",
      "Day 101: Mean = 172.11\n",
      "Day 102: Mean = 173.15\n",
      "Day 103: Mean = 170.11\n",
      "Day 104: Mean = 173.38\n",
      "Day 105: Mean = 172.14\n",
      "Day 106: Mean = 169.68\n",
      "Day 107: Mean = 173.52\n",
      "Day 108: Mean = 170.65\n",
      "Day 109: Mean = 172.93\n",
      "Day 110: Mean = 171.56\n",
      "Day 111: Mean = 171.92\n",
      "Day 112: Mean = 173.64\n",
      "Day 113: Mean = 171.97\n",
      "Day 114: Mean = 171.41\n",
      "Day 115: Mean = 173.10\n",
      "Day 116: Mean = 171.59\n",
      "Day 117: Mean = 172.03\n",
      "Day 118: Mean = 172.22\n",
      "Day 119: Mean = 172.01\n",
      "Day 120: Mean = 172.34\n",
      "Day 121: Mean = 171.03\n",
      "Day 122: Mean = 173.37\n",
      "Day 123: Mean = 171.63\n",
      "Day 124: Mean = 172.24\n",
      "Day 125: Mean = 170.96\n",
      "Day 126: Mean = 175.03\n",
      "Day 127: Mean = 173.64\n",
      "Day 128: Mean = 172.96\n",
      "Day 129: Mean = 171.98\n",
      "Day 130: Mean = 172.86\n",
      "Day 131: Mean = 173.28\n",
      "Day 132: Mean = 170.74\n",
      "Day 133: Mean = 171.86\n",
      "Day 134: Mean = 174.52\n",
      "Day 135: Mean = 171.98\n",
      "Day 136: Mean = 172.85\n",
      "Day 137: Mean = 170.89\n",
      "Day 138: Mean = 172.03\n",
      "Day 139: Mean = 171.01\n",
      "Day 140: Mean = 174.47\n",
      "Day 141: Mean = 167.85\n",
      "Day 142: Mean = 170.87\n",
      "Day 143: Mean = 172.24\n",
      "Day 144: Mean = 174.06\n",
      "Day 145: Mean = 173.65\n",
      "Day 146: Mean = 171.31\n",
      "Day 147: Mean = 172.88\n",
      "Day 148: Mean = 169.01\n",
      "Day 149: Mean = 169.36\n",
      "Day 150: Mean = 172.84\n",
      "Day 151: Mean = 173.28\n",
      "Day 152: Mean = 167.95\n",
      "Day 153: Mean = 171.49\n",
      "Day 154: Mean = 173.27\n",
      "Day 155: Mean = 174.37\n",
      "Day 156: Mean = 169.38\n",
      "Day 157: Mean = 170.82\n",
      "Day 158: Mean = 172.66\n",
      "Day 159: Mean = 170.50\n",
      "Day 160: Mean = 174.49\n",
      "Day 161: Mean = 169.28\n",
      "Day 162: Mean = 173.12\n",
      "Day 163: Mean = 169.49\n",
      "Day 164: Mean = 174.06\n",
      "Day 165: Mean = 170.41\n",
      "Day 166: Mean = 170.39\n",
      "Day 167: Mean = 171.15\n",
      "Day 168: Mean = 171.29\n",
      "Day 169: Mean = 172.77\n",
      "Day 170: Mean = 169.95\n",
      "Day 171: Mean = 172.86\n",
      "Day 172: Mean = 172.62\n",
      "Day 173: Mean = 172.34\n",
      "Day 174: Mean = 168.62\n",
      "Day 175: Mean = 172.71\n",
      "Day 176: Mean = 171.82\n",
      "Day 177: Mean = 173.28\n",
      "Day 178: Mean = 169.07\n",
      "Day 179: Mean = 174.08\n",
      "Day 180: Mean = 174.98\n",
      "Day 181: Mean = 171.28\n",
      "Day 182: Mean = 171.67\n",
      "Day 183: Mean = 169.46\n",
      "Day 184: Mean = 173.43\n",
      "Day 185: Mean = 170.86\n",
      "Day 186: Mean = 173.22\n",
      "Day 187: Mean = 169.19\n",
      "Day 188: Mean = 171.20\n",
      "Day 189: Mean = 171.47\n",
      "Day 190: Mean = 173.32\n",
      "Day 191: Mean = 171.27\n",
      "Day 192: Mean = 169.74\n",
      "Day 193: Mean = 172.92\n",
      "Day 194: Mean = 171.78\n",
      "Day 195: Mean = 170.12\n",
      "Day 196: Mean = 171.87\n",
      "Day 197: Mean = 170.74\n",
      "Day 198: Mean = 172.46\n",
      "Day 199: Mean = 172.98\n",
      "Day 200: Mean = 174.46\n",
      "Day 201: Mean = 173.49\n",
      "Day 202: Mean = 169.52\n",
      "Day 203: Mean = 171.73\n",
      "Day 204: Mean = 170.72\n",
      "Day 205: Mean = 174.66\n",
      "Day 206: Mean = 172.38\n",
      "Day 207: Mean = 172.79\n",
      "Day 208: Mean = 172.67\n",
      "Day 209: Mean = 173.04\n",
      "Day 210: Mean = 169.03\n",
      "Day 211: Mean = 170.28\n",
      "Day 212: Mean = 171.65\n",
      "Day 213: Mean = 173.91\n",
      "Day 214: Mean = 172.37\n",
      "Day 215: Mean = 173.08\n",
      "Day 216: Mean = 170.55\n",
      "Day 217: Mean = 171.63\n",
      "Day 218: Mean = 173.76\n",
      "Day 219: Mean = 173.47\n",
      "Day 220: Mean = 173.93\n",
      "Day 221: Mean = 172.22\n",
      "Day 222: Mean = 174.99\n",
      "Day 223: Mean = 172.79\n",
      "Day 224: Mean = 171.51\n",
      "Day 225: Mean = 173.24\n",
      "Day 226: Mean = 171.88\n",
      "Day 227: Mean = 172.78\n",
      "Day 228: Mean = 171.92\n",
      "Day 229: Mean = 170.13\n",
      "Day 230: Mean = 171.61\n",
      "Day 231: Mean = 172.90\n",
      "Day 232: Mean = 173.10\n",
      "Day 233: Mean = 172.13\n",
      "Day 234: Mean = 173.17\n",
      "Day 235: Mean = 170.08\n",
      "Day 236: Mean = 173.94\n",
      "Day 237: Mean = 171.38\n",
      "Day 238: Mean = 173.06\n",
      "Day 239: Mean = 171.67\n",
      "Day 240: Mean = 172.74\n",
      "Day 241: Mean = 170.29\n",
      "Day 242: Mean = 168.50\n",
      "Day 243: Mean = 172.53\n",
      "Day 244: Mean = 168.23\n",
      "Day 245: Mean = 173.63\n",
      "Day 246: Mean = 173.82\n",
      "Day 247: Mean = 170.65\n",
      "Day 248: Mean = 171.78\n",
      "Day 249: Mean = 169.31\n",
      "Day 250: Mean = 170.90\n",
      "Day 251: Mean = 172.68\n",
      "Day 252: Mean = 172.04\n",
      "Day 253: Mean = 173.18\n",
      "Day 254: Mean = 169.50\n",
      "Day 255: Mean = 172.89\n",
      "Day 256: Mean = 173.40\n",
      "Day 257: Mean = 169.67\n",
      "Day 258: Mean = 169.34\n",
      "Day 259: Mean = 175.16\n",
      "Day 260: Mean = 170.59\n",
      "Day 261: Mean = 170.58\n",
      "Day 262: Mean = 172.72\n",
      "Day 263: Mean = 172.13\n",
      "Day 264: Mean = 169.02\n",
      "Day 265: Mean = 171.16\n",
      "Day 266: Mean = 174.68\n",
      "Day 267: Mean = 169.29\n",
      "Day 268: Mean = 171.66\n",
      "Day 269: Mean = 173.82\n",
      "Day 270: Mean = 170.72\n",
      "Day 271: Mean = 170.52\n",
      "Day 272: Mean = 174.09\n",
      "Day 273: Mean = 168.74\n",
      "Day 274: Mean = 171.60\n",
      "Day 275: Mean = 173.35\n",
      "Day 276: Mean = 169.60\n",
      "Day 277: Mean = 172.32\n",
      "Day 278: Mean = 173.43\n",
      "Day 279: Mean = 175.98\n",
      "Day 280: Mean = 172.42\n",
      "Day 281: Mean = 172.48\n",
      "Day 282: Mean = 175.73\n",
      "Day 283: Mean = 173.31\n",
      "Day 284: Mean = 170.50\n",
      "Day 285: Mean = 171.47\n",
      "Day 286: Mean = 172.92\n",
      "Day 287: Mean = 171.16\n",
      "Day 288: Mean = 173.16\n",
      "Day 289: Mean = 170.62\n",
      "Day 290: Mean = 170.84\n",
      "Day 291: Mean = 171.99\n",
      "Day 292: Mean = 174.23\n",
      "Day 293: Mean = 170.49\n",
      "Day 294: Mean = 172.02\n",
      "Day 295: Mean = 172.09\n",
      "Day 296: Mean = 173.12\n",
      "Day 297: Mean = 170.10\n",
      "Day 298: Mean = 171.47\n",
      "Day 299: Mean = 172.79\n",
      "Day 300: Mean = 172.86\n",
      "Day 301: Mean = 169.39\n",
      "Day 302: Mean = 172.88\n",
      "Day 303: Mean = 172.10\n",
      "Day 304: Mean = 172.27\n",
      "Day 305: Mean = 170.71\n",
      "Day 306: Mean = 172.19\n",
      "Day 307: Mean = 167.53\n",
      "Day 308: Mean = 172.33\n",
      "Day 309: Mean = 172.73\n",
      "Day 310: Mean = 172.52\n",
      "Day 311: Mean = 172.06\n",
      "Day 312: Mean = 168.88\n",
      "Day 313: Mean = 170.45\n",
      "Day 314: Mean = 173.01\n",
      "Day 315: Mean = 172.52\n",
      "Day 316: Mean = 169.77\n",
      "Day 317: Mean = 169.47\n",
      "Day 318: Mean = 173.02\n",
      "Day 319: Mean = 170.27\n",
      "Day 320: Mean = 171.18\n",
      "Day 321: Mean = 173.07\n",
      "Day 322: Mean = 173.43\n",
      "Day 323: Mean = 171.83\n",
      "Day 324: Mean = 170.93\n",
      "Day 325: Mean = 169.82\n",
      "Day 326: Mean = 171.93\n",
      "Day 327: Mean = 170.34\n",
      "Day 328: Mean = 169.05\n",
      "Day 329: Mean = 172.85\n",
      "Day 330: Mean = 171.74\n",
      "Day 331: Mean = 169.21\n",
      "Day 332: Mean = 172.30\n",
      "Day 333: Mean = 170.00\n",
      "Day 334: Mean = 170.03\n",
      "Day 335: Mean = 171.75\n",
      "Day 336: Mean = 170.77\n",
      "Day 337: Mean = 173.98\n",
      "Day 338: Mean = 169.92\n",
      "Day 339: Mean = 174.53\n",
      "Day 340: Mean = 173.22\n",
      "Day 341: Mean = 174.25\n",
      "Day 342: Mean = 172.92\n",
      "Day 343: Mean = 172.69\n",
      "Day 344: Mean = 172.06\n",
      "Day 345: Mean = 169.89\n",
      "Day 346: Mean = 171.46\n",
      "Day 347: Mean = 171.48\n",
      "Day 348: Mean = 172.60\n",
      "Day 349: Mean = 172.38\n",
      "Day 350: Mean = 168.71\n",
      "Day 351: Mean = 172.76\n",
      "Day 352: Mean = 171.66\n",
      "Day 353: Mean = 173.98\n",
      "Day 354: Mean = 171.43\n",
      "Day 355: Mean = 171.77\n",
      "Day 356: Mean = 169.18\n",
      "Day 357: Mean = 173.78\n",
      "Day 358: Mean = 170.82\n",
      "Day 359: Mean = 170.98\n",
      "Day 360: Mean = 172.02\n",
      "Day 361: Mean = 173.20\n",
      "Day 362: Mean = 172.86\n",
      "Day 363: Mean = 171.90\n",
      "Day 364: Mean = 170.46\n",
      "Day 365: Mean = 171.64\n"
     ]
    },
    {
     "data": {
      "image/png": "[encoded data removed]",
      "text/plain": [
       "<Figure size 640x480 with 1 Axes>"
      ]
     },
     "metadata": {},
     "output_type": "display_data"
    }
   ],
   "source": [
    "seed(47)\n",
    "# take your samples here\n",
    "\n",
    "sample_means = []\n",
    "for i in range(365):\n",
    "    mean = np.mean(townsfolk_sampler(10))\n",
    "    sample_means.append(mean)\n",
    "    print(f\"Day {i+1}: Mean = {mean:.2f}\")\n",
    "_ = plt.hist(sample_means, bins=10)\n",
    "_ = plt.xlabel('height (cm)')  \n",
    "_ = plt.ylabel('number of people')\n",
    "_ = plt.title('Distribution of sample means of size 10')    "
   ]
  },
  {
   "cell_type": "markdown",
   "metadata": {},
   "source": [
    "The above is the distribution of the means of samples of size 10 taken from our population. The Central Limit Theorem tells us the expected mean of this distribution will be equal to the population mean, and standard deviation will be $\\sigma / \\sqrt n$, which, in this case, should be approximately 1.58."
   ]
  },
  {
   "cell_type": "markdown",
   "metadata": {},
   "source": [
    "__Q9:__ Verify the above results from the CLT."
   ]
  },
  {
   "cell_type": "markdown",
   "metadata": {},
   "source": [
    "__A:__"
   ]
  },
  {
   "cell_type": "code",
   "execution_count": 20,
   "metadata": {},
   "outputs": [
    {
     "name": "stdout",
     "output_type": "stream",
     "text": [
      "Expected Std of sample means (CLT):  1.5811388300841895\n"
     ]
    }
   ],
   "source": [
    "sigma = 5\n",
    "n = 10\n",
    "print(\"Expected Std of sample means (CLT): \", sigma / np.sqrt(n))"
   ]
  },
  {
   "cell_type": "code",
   "execution_count": 21,
   "metadata": {},
   "outputs": [
    {
     "name": "stdout",
     "output_type": "stream",
     "text": [
      "Actual Std dev of sample means: 1.5778333114768472\n"
     ]
    }
   ],
   "source": [
    "print(\"Actual Std dev of sample means:\", np.std(sample_means, ddof=1))"
   ]
  },
  {
   "cell_type": "markdown",
   "metadata": {},
   "source": [
    "Remember, in this instance, we knew our population parameters, that the average height really is 172 cm and the standard deviation is 5 cm, and we see some of our daily estimates of the population mean were as low as around 168 and some as high as 176."
   ]
  },
  {
   "cell_type": "markdown",
   "metadata": {},
   "source": [
    "__Q10:__ Repeat the above year's worth of samples but for a sample size of 50 (perhaps you had a bigger budget for conducting surveys that year)! Would you expect your distribution of sample means to be wider (more variable) or narrower (more consistent)? Compare your resultant summary statistics to those predicted by the CLT."
   ]
  },
  {
   "cell_type": "markdown",
   "metadata": {},
   "source": [
    "__A:__"
   ]
  },
  {
   "cell_type": "code",
   "execution_count": 22,
   "metadata": {},
   "outputs": [
    {
     "name": "stdout",
     "output_type": "stream",
     "text": [
      "Day 1: Mean = 172.78\n",
      "Day 2: Mean = 172.80\n",
      "Day 3: Mean = 172.94\n",
      "Day 4: Mean = 173.35\n",
      "Day 5: Mean = 171.15\n",
      "Day 6: Mean = 171.27\n",
      "Day 7: Mean = 171.58\n",
      "Day 8: Mean = 171.64\n",
      "Day 9: Mean = 171.96\n",
      "Day 10: Mean = 172.66\n",
      "Day 11: Mean = 171.66\n",
      "Day 12: Mean = 171.89\n",
      "Day 13: Mean = 172.42\n",
      "Day 14: Mean = 170.68\n",
      "Day 15: Mean = 171.38\n",
      "Day 16: Mean = 170.89\n",
      "Day 17: Mean = 170.63\n",
      "Day 18: Mean = 171.84\n",
      "Day 19: Mean = 171.71\n",
      "Day 20: Mean = 172.00\n",
      "Day 21: Mean = 172.18\n",
      "Day 22: Mean = 171.67\n",
      "Day 23: Mean = 172.41\n",
      "Day 24: Mean = 172.04\n",
      "Day 25: Mean = 171.85\n",
      "Day 26: Mean = 173.30\n",
      "Day 27: Mean = 172.47\n",
      "Day 28: Mean = 172.25\n",
      "Day 29: Mean = 171.73\n",
      "Day 30: Mean = 171.08\n",
      "Day 31: Mean = 172.07\n",
      "Day 32: Mean = 171.57\n",
      "Day 33: Mean = 171.27\n",
      "Day 34: Mean = 171.11\n",
      "Day 35: Mean = 171.83\n",
      "Day 36: Mean = 172.65\n",
      "Day 37: Mean = 171.34\n",
      "Day 38: Mean = 171.68\n",
      "Day 39: Mean = 171.17\n",
      "Day 40: Mean = 172.50\n",
      "Day 41: Mean = 172.02\n",
      "Day 42: Mean = 171.98\n",
      "Day 43: Mean = 172.26\n",
      "Day 44: Mean = 172.67\n",
      "Day 45: Mean = 172.95\n",
      "Day 46: Mean = 171.67\n",
      "Day 47: Mean = 172.28\n",
      "Day 48: Mean = 172.56\n",
      "Day 49: Mean = 170.64\n",
      "Day 50: Mean = 171.29\n",
      "Day 51: Mean = 172.06\n",
      "Day 52: Mean = 171.63\n",
      "Day 53: Mean = 171.12\n",
      "Day 54: Mean = 172.04\n",
      "Day 55: Mean = 171.66\n",
      "Day 56: Mean = 172.75\n",
      "Day 57: Mean = 172.70\n",
      "Day 58: Mean = 171.74\n",
      "Day 59: Mean = 172.16\n",
      "Day 60: Mean = 172.07\n",
      "Day 61: Mean = 171.47\n",
      "Day 62: Mean = 171.46\n",
      "Day 63: Mean = 171.38\n",
      "Day 64: Mean = 170.74\n",
      "Day 65: Mean = 171.81\n",
      "Day 66: Mean = 171.18\n",
      "Day 67: Mean = 170.66\n",
      "Day 68: Mean = 172.48\n",
      "Day 69: Mean = 172.36\n",
      "Day 70: Mean = 171.32\n",
      "Day 71: Mean = 172.32\n",
      "Day 72: Mean = 171.36\n",
      "Day 73: Mean = 172.01\n",
      "Day 74: Mean = 171.46\n",
      "Day 75: Mean = 172.61\n",
      "Day 76: Mean = 172.91\n",
      "Day 77: Mean = 171.82\n",
      "Day 78: Mean = 172.02\n",
      "Day 79: Mean = 172.69\n",
      "Day 80: Mean = 172.59\n",
      "Day 81: Mean = 172.00\n",
      "Day 82: Mean = 170.89\n",
      "Day 83: Mean = 171.13\n",
      "Day 84: Mean = 173.30\n",
      "Day 85: Mean = 172.69\n",
      "Day 86: Mean = 171.31\n",
      "Day 87: Mean = 171.94\n",
      "Day 88: Mean = 170.85\n",
      "Day 89: Mean = 171.94\n",
      "Day 90: Mean = 172.71\n",
      "Day 91: Mean = 172.11\n",
      "Day 92: Mean = 172.08\n",
      "Day 93: Mean = 172.09\n",
      "Day 94: Mean = 172.29\n",
      "Day 95: Mean = 172.04\n",
      "Day 96: Mean = 171.73\n",
      "Day 97: Mean = 171.61\n",
      "Day 98: Mean = 171.40\n",
      "Day 99: Mean = 172.31\n",
      "Day 100: Mean = 173.14\n",
      "Day 101: Mean = 172.28\n",
      "Day 102: Mean = 171.86\n",
      "Day 103: Mean = 171.50\n",
      "Day 104: Mean = 170.08\n",
      "Day 105: Mean = 172.52\n",
      "Day 106: Mean = 171.22\n",
      "Day 107: Mean = 172.67\n",
      "Day 108: Mean = 171.33\n",
      "Day 109: Mean = 171.00\n",
      "Day 110: Mean = 172.05\n",
      "Day 111: Mean = 172.35\n",
      "Day 112: Mean = 170.68\n",
      "Day 113: Mean = 173.00\n",
      "Day 114: Mean = 172.26\n",
      "Day 115: Mean = 172.04\n",
      "Day 116: Mean = 172.35\n",
      "Day 117: Mean = 172.12\n",
      "Day 118: Mean = 172.01\n",
      "Day 119: Mean = 172.46\n",
      "Day 120: Mean = 172.48\n",
      "Day 121: Mean = 173.02\n",
      "Day 122: Mean = 170.90\n",
      "Day 123: Mean = 171.42\n",
      "Day 124: Mean = 171.37\n",
      "Day 125: Mean = 171.24\n",
      "Day 126: Mean = 172.87\n",
      "Day 127: Mean = 172.39\n",
      "Day 128: Mean = 171.31\n",
      "Day 129: Mean = 171.40\n",
      "Day 130: Mean = 172.76\n",
      "Day 131: Mean = 172.33\n",
      "Day 132: Mean = 172.36\n",
      "Day 133: Mean = 172.55\n",
      "Day 134: Mean = 172.99\n",
      "Day 135: Mean = 171.23\n",
      "Day 136: Mean = 171.76\n",
      "Day 137: Mean = 171.16\n",
      "Day 138: Mean = 172.30\n",
      "Day 139: Mean = 171.83\n",
      "Day 140: Mean = 171.33\n",
      "Day 141: Mean = 170.78\n",
      "Day 142: Mean = 172.36\n",
      "Day 143: Mean = 172.06\n",
      "Day 144: Mean = 172.46\n",
      "Day 145: Mean = 171.47\n",
      "Day 146: Mean = 172.70\n",
      "Day 147: Mean = 170.90\n",
      "Day 148: Mean = 171.50\n",
      "Day 149: Mean = 171.92\n",
      "Day 150: Mean = 172.86\n",
      "Day 151: Mean = 172.84\n",
      "Day 152: Mean = 171.93\n",
      "Day 153: Mean = 171.75\n",
      "Day 154: Mean = 171.98\n",
      "Day 155: Mean = 171.47\n",
      "Day 156: Mean = 172.61\n",
      "Day 157: Mean = 172.91\n",
      "Day 158: Mean = 173.16\n",
      "Day 159: Mean = 172.28\n",
      "Day 160: Mean = 171.68\n",
      "Day 161: Mean = 171.55\n",
      "Day 162: Mean = 171.19\n",
      "Day 163: Mean = 171.67\n",
      "Day 164: Mean = 172.42\n",
      "Day 165: Mean = 173.04\n",
      "Day 166: Mean = 172.82\n",
      "Day 167: Mean = 171.47\n",
      "Day 168: Mean = 172.96\n",
      "Day 169: Mean = 172.13\n",
      "Day 170: Mean = 172.08\n",
      "Day 171: Mean = 171.80\n",
      "Day 172: Mean = 172.34\n",
      "Day 173: Mean = 171.88\n",
      "Day 174: Mean = 171.16\n",
      "Day 175: Mean = 171.85\n",
      "Day 176: Mean = 172.93\n",
      "Day 177: Mean = 173.18\n",
      "Day 178: Mean = 171.64\n",
      "Day 179: Mean = 173.42\n",
      "Day 180: Mean = 171.45\n",
      "Day 181: Mean = 170.76\n",
      "Day 182: Mean = 171.64\n",
      "Day 183: Mean = 171.74\n",
      "Day 184: Mean = 173.80\n",
      "Day 185: Mean = 171.74\n",
      "Day 186: Mean = 173.62\n",
      "Day 187: Mean = 171.26\n",
      "Day 188: Mean = 172.07\n",
      "Day 189: Mean = 172.17\n",
      "Day 190: Mean = 170.44\n",
      "Day 191: Mean = 172.74\n",
      "Day 192: Mean = 172.19\n",
      "Day 193: Mean = 170.66\n",
      "Day 194: Mean = 172.10\n",
      "Day 195: Mean = 171.72\n",
      "Day 196: Mean = 171.98\n",
      "Day 197: Mean = 172.00\n",
      "Day 198: Mean = 172.44\n",
      "Day 199: Mean = 171.12\n",
      "Day 200: Mean = 172.03\n",
      "Day 201: Mean = 171.30\n",
      "Day 202: Mean = 172.01\n",
      "Day 203: Mean = 172.38\n",
      "Day 204: Mean = 171.34\n",
      "Day 205: Mean = 171.34\n",
      "Day 206: Mean = 171.96\n",
      "Day 207: Mean = 171.15\n",
      "Day 208: Mean = 172.58\n",
      "Day 209: Mean = 172.42\n",
      "Day 210: Mean = 171.55\n",
      "Day 211: Mean = 172.57\n",
      "Day 212: Mean = 171.57\n",
      "Day 213: Mean = 171.38\n",
      "Day 214: Mean = 171.52\n",
      "Day 215: Mean = 171.33\n",
      "Day 216: Mean = 171.83\n",
      "Day 217: Mean = 171.44\n",
      "Day 218: Mean = 171.99\n",
      "Day 219: Mean = 172.01\n",
      "Day 220: Mean = 172.82\n",
      "Day 221: Mean = 171.92\n",
      "Day 222: Mean = 172.10\n",
      "Day 223: Mean = 172.33\n",
      "Day 224: Mean = 172.60\n",
      "Day 225: Mean = 172.44\n",
      "Day 226: Mean = 170.75\n",
      "Day 227: Mean = 170.99\n",
      "Day 228: Mean = 171.85\n",
      "Day 229: Mean = 171.88\n",
      "Day 230: Mean = 173.17\n",
      "Day 231: Mean = 171.76\n",
      "Day 232: Mean = 172.32\n",
      "Day 233: Mean = 172.26\n",
      "Day 234: Mean = 172.90\n",
      "Day 235: Mean = 172.15\n",
      "Day 236: Mean = 172.42\n",
      "Day 237: Mean = 170.69\n",
      "Day 238: Mean = 172.75\n",
      "Day 239: Mean = 171.08\n",
      "Day 240: Mean = 172.03\n",
      "Day 241: Mean = 172.01\n",
      "Day 242: Mean = 172.75\n",
      "Day 243: Mean = 171.66\n",
      "Day 244: Mean = 172.43\n",
      "Day 245: Mean = 171.31\n",
      "Day 246: Mean = 172.86\n",
      "Day 247: Mean = 172.63\n",
      "Day 248: Mean = 171.91\n",
      "Day 249: Mean = 170.72\n",
      "Day 250: Mean = 172.11\n",
      "Day 251: Mean = 171.45\n",
      "Day 252: Mean = 171.87\n",
      "Day 253: Mean = 171.39\n",
      "Day 254: Mean = 172.14\n",
      "Day 255: Mean = 171.86\n",
      "Day 256: Mean = 171.06\n",
      "Day 257: Mean = 171.11\n",
      "Day 258: Mean = 171.98\n",
      "Day 259: Mean = 172.25\n",
      "Day 260: Mean = 172.19\n",
      "Day 261: Mean = 172.49\n",
      "Day 262: Mean = 172.63\n",
      "Day 263: Mean = 172.84\n",
      "Day 264: Mean = 172.96\n",
      "Day 265: Mean = 173.10\n",
      "Day 266: Mean = 171.41\n",
      "Day 267: Mean = 171.89\n",
      "Day 268: Mean = 171.92\n",
      "Day 269: Mean = 171.39\n",
      "Day 270: Mean = 172.56\n",
      "Day 271: Mean = 170.84\n",
      "Day 272: Mean = 172.60\n",
      "Day 273: Mean = 171.75\n",
      "Day 274: Mean = 171.96\n",
      "Day 275: Mean = 171.85\n",
      "Day 276: Mean = 172.36\n",
      "Day 277: Mean = 171.25\n",
      "Day 278: Mean = 171.93\n",
      "Day 279: Mean = 171.86\n",
      "Day 280: Mean = 171.85\n",
      "Day 281: Mean = 171.45\n",
      "Day 282: Mean = 172.75\n",
      "Day 283: Mean = 170.39\n",
      "Day 284: Mean = 172.35\n",
      "Day 285: Mean = 172.80\n",
      "Day 286: Mean = 171.92\n",
      "Day 287: Mean = 172.67\n",
      "Day 288: Mean = 170.79\n",
      "Day 289: Mean = 172.12\n",
      "Day 290: Mean = 170.76\n",
      "Day 291: Mean = 171.72\n",
      "Day 292: Mean = 172.11\n",
      "Day 293: Mean = 172.51\n",
      "Day 294: Mean = 171.65\n",
      "Day 295: Mean = 172.55\n",
      "Day 296: Mean = 171.80\n",
      "Day 297: Mean = 171.68\n",
      "Day 298: Mean = 171.72\n",
      "Day 299: Mean = 171.58\n",
      "Day 300: Mean = 172.89\n",
      "Day 301: Mean = 171.36\n",
      "Day 302: Mean = 171.21\n",
      "Day 303: Mean = 172.51\n",
      "Day 304: Mean = 170.61\n",
      "Day 305: Mean = 172.59\n",
      "Day 306: Mean = 172.59\n",
      "Day 307: Mean = 172.75\n",
      "Day 308: Mean = 171.78\n",
      "Day 309: Mean = 170.56\n",
      "Day 310: Mean = 172.65\n",
      "Day 311: Mean = 172.50\n",
      "Day 312: Mean = 171.01\n",
      "Day 313: Mean = 171.90\n",
      "Day 314: Mean = 171.40\n",
      "Day 315: Mean = 171.59\n",
      "Day 316: Mean = 172.17\n",
      "Day 317: Mean = 172.54\n",
      "Day 318: Mean = 171.25\n",
      "Day 319: Mean = 171.48\n",
      "Day 320: Mean = 171.47\n",
      "Day 321: Mean = 171.59\n",
      "Day 322: Mean = 172.04\n",
      "Day 323: Mean = 172.83\n",
      "Day 324: Mean = 172.52\n",
      "Day 325: Mean = 172.56\n",
      "Day 326: Mean = 170.42\n",
      "Day 327: Mean = 172.21\n",
      "Day 328: Mean = 170.64\n",
      "Day 329: Mean = 172.48\n",
      "Day 330: Mean = 171.82\n",
      "Day 331: Mean = 170.67\n",
      "Day 332: Mean = 172.70\n",
      "Day 333: Mean = 171.64\n",
      "Day 334: Mean = 172.02\n",
      "Day 335: Mean = 172.59\n",
      "Day 336: Mean = 173.05\n",
      "Day 337: Mean = 171.42\n",
      "Day 338: Mean = 171.92\n",
      "Day 339: Mean = 172.52\n",
      "Day 340: Mean = 172.00\n",
      "Day 341: Mean = 172.68\n",
      "Day 342: Mean = 171.36\n",
      "Day 343: Mean = 171.60\n",
      "Day 344: Mean = 172.22\n",
      "Day 345: Mean = 171.55\n",
      "Day 346: Mean = 171.11\n",
      "Day 347: Mean = 171.08\n",
      "Day 348: Mean = 172.49\n",
      "Day 349: Mean = 171.09\n",
      "Day 350: Mean = 172.18\n",
      "Day 351: Mean = 172.31\n",
      "Day 352: Mean = 171.56\n",
      "Day 353: Mean = 172.97\n",
      "Day 354: Mean = 170.97\n",
      "Day 355: Mean = 172.40\n",
      "Day 356: Mean = 172.86\n",
      "Day 357: Mean = 171.11\n",
      "Day 358: Mean = 170.44\n",
      "Day 359: Mean = 171.37\n",
      "Day 360: Mean = 172.38\n",
      "Day 361: Mean = 173.40\n",
      "Day 362: Mean = 172.58\n",
      "Day 363: Mean = 171.75\n",
      "Day 364: Mean = 171.93\n",
      "Day 365: Mean = 172.79\n",
      "Mean of sample means:  171.94366080916114\n",
      "Standard deviation of sample means:  0.6745354088447525\n"
     ]
    }
   ],
   "source": [
    "seed(47)\n",
    "# calculate daily means from the larger sample size here\n",
    "\n",
    "sample_means = []\n",
    "for i in range(365):\n",
    "    mean = np.mean(townsfolk_sampler(50))\n",
    "    sample_means.append(mean)\n",
    "    print(f\"Day {i+1}: Mean = {mean:.2f}\")\n",
    "\n",
    "print(\"Mean of sample means: \", np.mean(sample_means))\n",
    "print(\"Standard deviation of sample means: \", np.std(sample_means, ddof=1))"
   ]
  },
  {
   "cell_type": "code",
   "execution_count": 23,
   "metadata": {},
   "outputs": [
    {
     "data": {
      "image/png": "[encoded data removed]",
      "text/plain": [
       "<Figure size 640x480 with 1 Axes>"
      ]
     },
     "metadata": {},
     "output_type": "display_data"
    }
   ],
   "source": [
    "\n",
    "_ = plt.hist(sample_means, bins=10)\n",
    "_ = plt.xlabel('height (cm)')  \n",
    "_ = plt.ylabel('number of people')\n",
    "_ = plt.title('Distribution of sample means of size 50')    \n",
    "_ = plt.axvline(172, color='r')\n",
    "_ = plt.axvline(172+2, color='r', linestyle='--')\n",
    "_ = plt.axvline(172-2, color='r', linestyle='--')"
   ]
  },
  {
   "cell_type": "markdown",
   "metadata": {},
   "source": [
    "What we've seen so far, then, is that we can estimate population parameters from a sample from the population, and that samples have their own distributions. Furthermore, the larger the sample size, the narrower are those sampling distributions."
   ]
  },
  {
   "cell_type": "markdown",
   "metadata": {},
   "source": [
    "### Normally testing time!"
   ]
  },
  {
   "cell_type": "markdown",
   "metadata": {},
   "source": [
    "All of the above is well and good. We've been sampling from a population we know is normally distributed, we've come to understand when to use $n$ and when to use $n-1$ in the denominator to calculate the spread of a distribution, and we've  seen the Central Limit Theorem in action for a sampling distribution. All seems very well behaved in Frequentist land. But, well, why should we really care?"
   ]
  },
  {
   "cell_type": "markdown",
   "metadata": {},
   "source": [
    "Remember, we rarely (if ever) actually know our population parameters but we still have to estimate them somehow. If we want to make inferences to conclusions like \"this observation is unusual\" or \"my population mean has changed\" then we need to have some idea of what the underlying distribution is so we can calculate relevant probabilities. In frequentist inference, we use the formulae above to deduce these population parameters. Take a moment in the next part of this assignment to refresh your understanding of how these probabilities work."
   ]
  },
  {
   "cell_type": "markdown",
   "metadata": {},
   "source": [
    "Recall some basic properties of the standard normal distribution, such as that about 68% of observations are within plus or minus 1 standard deviation of the mean. Check out the precise definition of a normal distribution on p. 394 of *AoS*. \n",
    "\n",
    "__Q11:__ Using this fact, calculate the probability of observing the value 1 or less in a single observation from the standard normal distribution. Hint: you may find it helpful to sketch the standard normal distribution (the familiar bell shape) and mark the number of standard deviations from the mean on the x-axis and shade the regions of the curve that contain certain percentages of the population."
   ]
  },
  {
   "cell_type": "markdown",
   "metadata": {},
   "source": [
    "__A:__"
   ]
  },
  {
   "cell_type": "markdown",
   "metadata": {},
   "source": [
    "P (Z <= 1) = 0.8413"
   ]
  },
  {
   "cell_type": "markdown",
   "metadata": {},
   "source": [
    "Calculating this probability involved calculating the area under the curve from the value of 1 and below. To put it in mathematical terms, we need to *integrate* the probability density function. We could just add together the known areas of chunks (from -Inf to 0 and then 0 to $+\\sigma$ in the example above). One way to do this is to look up tables (literally). Fortunately, scipy has this functionality built in with the cdf() function."
   ]
  },
  {
   "cell_type": "markdown",
   "metadata": {},
   "source": [
    "__Q12:__ Use the cdf() function to answer the question above again and verify you get the same answer."
   ]
  },
  {
   "cell_type": "markdown",
   "metadata": {},
   "source": [
    "__A:__"
   ]
  },
  {
   "cell_type": "code",
   "execution_count": 24,
   "metadata": {},
   "outputs": [
    {
     "name": "stdout",
     "output_type": "stream",
     "text": [
      "0.8413447460685429\n"
     ]
    }
   ],
   "source": [
    "#Calculate P (Z <= 1) using built in function\n",
    "prob = norm.cdf(1)\n",
    "print(prob)"
   ]
  },
  {
   "cell_type": "markdown",
   "metadata": {},
   "source": [
    "__Q13:__ Using our knowledge of the population parameters for our townsfolks' heights, what is the probability of selecting one person at random and their height being 177 cm or less? Calculate this using both of the approaches given above."
   ]
  },
  {
   "cell_type": "markdown",
   "metadata": {},
   "source": [
    "__A:__"
   ]
  },
  {
   "cell_type": "markdown",
   "metadata": {},
   "source": [
    "z = (177-172) / (5) = 1\n",
    "P(Z <= 1) = 0.841"
   ]
  },
  {
   "cell_type": "code",
   "execution_count": 25,
   "metadata": {},
   "outputs": [
    {
     "name": "stdout",
     "output_type": "stream",
     "text": [
      "0.8413447460685429\n"
     ]
    }
   ],
   "source": [
    "prob_daily_sample = norm.cdf(177, loc = 172, scale=5)\n",
    "print(prob_daily_sample)"
   ]
  },
  {
   "cell_type": "markdown",
   "metadata": {},
   "source": [
    "__Q14:__ Turning this question around — suppose we randomly pick one person and measure their height and find they are 2.00 m tall. How surprised should we be at this result, given what we know about the population distribution? In other words, how likely would it be to obtain a value at least as extreme as this? Express this as a probability. "
   ]
  },
  {
   "cell_type": "markdown",
   "metadata": {},
   "source": [
    "__A:__"
   ]
  },
  {
   "cell_type": "code",
   "execution_count": 26,
   "metadata": {},
   "outputs": [
    {
     "name": "stdout",
     "output_type": "stream",
     "text": [
      "1.0717590259723409e-08\n"
     ]
    }
   ],
   "source": [
    "prob_h = 1 - norm.cdf(200, loc = 172, scale = 5)\n",
    "print(prob_h)"
   ]
  },
  {
   "cell_type": "markdown",
   "metadata": {},
   "source": [
    "What we've just done is calculate the ***p-value*** of the observation of someone 2.00m tall (review *p*-values if you need to on p. 399 of *AoS*). We could calculate this probability by virtue of knowing the population parameters. We were then able to use the known properties of the relevant normal distribution to calculate the probability of observing a value at least as extreme as our test value."
   ]
  },
  {
   "cell_type": "markdown",
   "metadata": {},
   "source": [
    "We're about to come to a pinch, though. We've said a couple of times that we rarely, if ever, know the true population parameters; we have to estimate them from our sample and we cannot even begin to estimate the standard deviation from a single observation. \n",
    "\n",
    "This is very true and usually we have sample sizes larger than one. This means we can calculate the mean of the sample as our best estimate of the population mean and the standard deviation as our best estimate of the population standard deviation. \n",
    "\n",
    "In other words, we are now coming to deal with the sampling distributions we mentioned above as we are generally concerned with the properties of the sample means we obtain. \n",
    "\n",
    "Above, we highlighted one result from the CLT, whereby the sampling distribution (of the mean) becomes narrower and narrower with the square root of the sample size. We remind ourselves that another result from the CLT is that _even if the underlying population distribution is not normal, the sampling distribution will tend to become normal with sufficiently large sample size_. (**Check out p. 199 of AoS if you need to revise this**). This is the key driver for us 'requiring' a certain sample size, for example you may frequently see a minimum sample size of 30 stated in many places. In reality this is simply a rule of thumb; if the underlying distribution is approximately normal then your sampling distribution will already be pretty normal, but if the underlying distribution is heavily skewed then you'd want to increase your sample size."
   ]
  },
  {
   "cell_type": "markdown",
   "metadata": {},
   "source": [
    "__Q15:__ Let's now start from the position of knowing nothing about the heights of people in our town.\n",
    "* Use the random seed of 47, to randomly sample the heights of 50 townsfolk\n",
    "* Estimate the population mean using np.mean\n",
    "* Estimate the population standard deviation using np.std (remember which denominator to use!)\n",
    "* Calculate the (95%) [margin of error](https://www.statisticshowto.datasciencecentral.com/probability-and-statistics/hypothesis-testing/margin-of-error/#WhatMofE) (use the exact critial z value to 2 decimal places - [look this up](https://www.statisticshowto.datasciencecentral.com/probability-and-statistics/find-critical-values/) or use norm.ppf()) Recall that the ***margin of error*** is mentioned on p. 189 of the *AoS* and discussed in depth in that chapter). \n",
    "* Calculate the 95% Confidence Interval of the mean (***confidence intervals*** are defined on p. 385 of *AoS*) \n",
    "* Does this interval include the true population mean?"
   ]
  },
  {
   "cell_type": "markdown",
   "metadata": {},
   "source": [
    "__A:__"
   ]
  },
  {
   "cell_type": "code",
   "execution_count": 27,
   "metadata": {},
   "outputs": [],
   "source": [
    "seed(47)\n",
    "# take your sample now\n",
    "sample3 = townsfolk_sampler(50)"
   ]
  },
  {
   "cell_type": "code",
   "execution_count": 28,
   "metadata": {},
   "outputs": [
    {
     "name": "stdout",
     "output_type": "stream",
     "text": [
      "172.7815108576788\n"
     ]
    }
   ],
   "source": [
    "sam3_mean = np.mean(sample3)\n",
    "print(sam3_mean)"
   ]
  },
  {
   "cell_type": "code",
   "execution_count": 29,
   "metadata": {},
   "outputs": [
    {
     "name": "stdout",
     "output_type": "stream",
     "text": [
      "1.959963984540054\n"
     ]
    }
   ],
   "source": [
    "z = norm.ppf(0.975)\n",
    "print(z)"
   ]
  },
  {
   "cell_type": "code",
   "execution_count": 30,
   "metadata": {},
   "outputs": [
    {
     "name": "stdout",
     "output_type": "stream",
     "text": [
      "4.195424364433547\n"
     ]
    }
   ],
   "source": [
    "std_s3 = np.std(sample3, ddof=1)\n",
    "print(std_s3)"
   ]
  },
  {
   "cell_type": "code",
   "execution_count": 31,
   "metadata": {},
   "outputs": [
    {
     "name": "stdout",
     "output_type": "stream",
     "text": [
      "1.1628909342876539\n"
     ]
    }
   ],
   "source": [
    "margin_of_er = z * (std_s3 / np.sqrt(len(sample3)))\n",
    "print(margin_of_er)"
   ]
  },
  {
   "cell_type": "code",
   "execution_count": 32,
   "metadata": {},
   "outputs": [
    {
     "name": "stdout",
     "output_type": "stream",
     "text": [
      "(171.61861992339115, 173.94440179196644)\n"
     ]
    }
   ],
   "source": [
    "confid_interval = (sam3_mean - margin_of_er, sam3_mean + margin_of_er)\n",
    "print(confid_interval)"
   ]
  },
  {
   "cell_type": "markdown",
   "metadata": {},
   "source": [
    "__Q16:__ Above, we calculated the confidence interval using the critical z value. What is the problem with this? What requirement, or requirements, are we (strictly) failing?"
   ]
  },
  {
   "cell_type": "markdown",
   "metadata": {},
   "source": [
    "__A:__"
   ]
  },
  {
   "cell_type": "markdown",
   "metadata": {},
   "source": [
    "We're strictly failing the assumption of knowing the population standard deviation. However we estimated it from the sample. Sample size is also on the borderline, so doing it in z method gives some uncertainty compared to the t-distribution. "
   ]
  },
  {
   "cell_type": "markdown",
   "metadata": {},
   "source": [
    "__Q17:__ Calculate the 95% confidence interval for the mean using the _t_ distribution. Is this wider or narrower than that based on the normal distribution above? If you're unsure, you may find this [resource](https://www.statisticshowto.datasciencecentral.com/probability-and-statistics/confidence-interval/) useful. For calculating the critical value, remember how you could calculate this for the normal distribution using norm.ppf()."
   ]
  },
  {
   "cell_type": "markdown",
   "metadata": {},
   "source": [
    "__A:__"
   ]
  },
  {
   "cell_type": "code",
   "execution_count": 33,
   "metadata": {},
   "outputs": [
    {
     "name": "stdout",
     "output_type": "stream",
     "text": [
      "2.0095752371292397\n"
     ]
    }
   ],
   "source": [
    "t = t.ppf(0.975, df=49)\n",
    "print(t)"
   ]
  },
  {
   "cell_type": "code",
   "execution_count": 34,
   "metadata": {},
   "outputs": [
    {
     "name": "stdout",
     "output_type": "stream",
     "text": [
      "1.1923264118421855\n"
     ]
    }
   ],
   "source": [
    "moe_t = t * (std_s3 / np.sqrt(len(sample3)))\n",
    "print(moe_t)"
   ]
  },
  {
   "cell_type": "code",
   "execution_count": 35,
   "metadata": {},
   "outputs": [
    {
     "name": "stdout",
     "output_type": "stream",
     "text": [
      "(171.61861992339115, 173.94440179196644)\n"
     ]
    }
   ],
   "source": [
    "confid_interval_t = (sam3_mean - moe_t, sam3_mean + moe_t)\n",
    "print(confid_interval)"
   ]
  },
  {
   "cell_type": "markdown",
   "metadata": {},
   "source": [
    "This is slightly wider than the previous confidence interval. This reflects the greater uncertainty given that we are estimating population parameters from a sample."
   ]
  },
  {
   "cell_type": "markdown",
   "metadata": {},
   "source": [
    "## 4. Learning outcomes"
   ]
  },
  {
   "cell_type": "markdown",
   "metadata": {},
   "source": [
    "Having completed this project notebook, you now have hands-on experience:\n",
    "* sampling and calculating probabilities from a normal distribution\n",
    "* identifying the correct way to estimate the standard deviation of a population (the population parameter) from a sample\n",
    "* with sampling distribution and now know how the Central Limit Theorem applies\n",
    "* with how to calculate critical values and confidence intervals"
   ]
  }
 ],
 "metadata": {
  "kernelspec": {
   "display_name": "base",
   "language": "python",
   "name": "python3"
  },
  "language_info": {
   "codemirror_mode": {
    "name": "ipython",
    "version": 3
   },
   "file_extension": ".py",
   "mimetype": "text/x-python",
   "name": "python",
   "nbconvert_exporter": "python",
   "pygments_lexer": "ipython3",
   "version": "3.12.7"
  }
 },
 "nbformat": 4,
 "nbformat_minor": 2
}
